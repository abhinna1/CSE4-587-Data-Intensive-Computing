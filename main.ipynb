{
 "cells": [
  {
   "cell_type": "code",
   "execution_count": null,
   "id": "d1806d75-2896-44c4-8c2a-4ff6e1c9c1ba",
   "metadata": {},
   "outputs": [],
   "source": [
    "import pandas as pd"
   ]
  },
  {
   "cell_type": "code",
   "execution_count": null,
   "id": "3c9258a9-352e-4d8a-ba09-be2f83b58262",
   "metadata": {},
   "outputs": [],
   "source": [
    "import matplotlib.pyplot as plt"
   ]
  },
  {
   "cell_type": "code",
   "execution_count": null,
   "id": "e67b60cc-2fae-4aed-9fd2-7d6bc1d57c9d",
   "metadata": {},
   "outputs": [],
   "source": [
    "import numpy as np"
   ]
  },
  {
   "cell_type": "code",
   "execution_count": null,
   "id": "07494bea-6322-497c-89ff-52ff922599e5",
   "metadata": {},
   "outputs": [],
   "source": [
    "df = pd.read_csv(\"dataset/healthcare_dataset.csv\")"
   ]
  },
  {
   "cell_type": "code",
   "execution_count": null,
   "id": "1c6822b9-b1a7-4f36-94dc-3438adcfee79",
   "metadata": {},
   "outputs": [],
   "source": [
    "unique_years = pd.to_datetime(df['Discharge Date']).dt.year.unique()"
   ]
  },
  {
   "cell_type": "code",
   "execution_count": null,
   "id": "2a67021d-5025-4a10-a168-5ba6d1281fcf",
   "metadata": {},
   "outputs": [],
   "source": [
    "df"
   ]
  },
  {
   "cell_type": "code",
   "execution_count": null,
   "id": "d45d10ca-662f-47f2-846a-5c8189848942",
   "metadata": {},
   "outputs": [],
   "source": [
    "\"\"\"Rename the column names\"\"\"\n",
    "column_mapping = {\n",
    "       'Name': 'patient_name',\n",
    "       'Age': 'patient_age',\n",
    "       'Gender': 'patient_gender',\n",
    "       'Blood Type': 'blood_type',\n",
    "       'Medical Condition': 'medical_condition',\n",
    "       'Date of Admission': 'admission_date',\n",
    "       'Doctor': 'doctor_name',\n",
    "       'Hospital': 'hospital_name',\n",
    "       'Insurance Provider': 'insurance_provider',\n",
    "       'Billing Amount': 'billing_amount',\n",
    "       'Room Number': 'room_number',\n",
    "       'Admission Type': 'admission_type',\n",
    "       'Discharge Date': 'discharge_date',\n",
    "       'Medication': 'medication',\n",
    "       'Test Results': 'test_results'\n",
    "}\n",
    "df = df.rename(columns=column_mapping)"
   ]
  },
  {
   "cell_type": "code",
   "execution_count": null,
   "id": "272291ad-650d-46ef-9121-5d2f3bc5ff44",
   "metadata": {},
   "outputs": [],
   "source": [
    "df"
   ]
  },
  {
   "cell_type": "code",
   "execution_count": null,
   "id": "bf878d85-8e60-4a3e-b98f-798e09c91f14",
   "metadata": {},
   "outputs": [],
   "source": []
  },
  {
   "cell_type": "code",
   "execution_count": null,
   "id": "1b31c05d-2afc-4d33-a288-0697ca6fa5cf",
   "metadata": {},
   "outputs": [],
   "source": [
    "# Fix Patient names.\n",
    "df['patient_name'] = df['patient_name'].apply(lambda x: ' '.join(word.capitalize() for word in str(x).lower().split()))"
   ]
  },
  {
   "cell_type": "code",
   "execution_count": null,
   "id": "7a08f055-098b-4135-b0e2-08e82f2b7ef6",
   "metadata": {},
   "outputs": [],
   "source": [
    "df.dtypes"
   ]
  },
  {
   "cell_type": "code",
   "execution_count": null,
   "id": "f11ca3f3-19e4-4a04-8dee-dd61c3e7f205",
   "metadata": {},
   "outputs": [],
   "source": [
    "# Remap genders\n",
    "gender_map = {'male': 'M', 'female': 'F', 'm': 'M', 'f': 'F'}\n",
    "df['patient_gender'] = df['patient_gender'].str.strip().str.lower().map(gender_map)\n",
    "df[\"patient_gender\"].unique()"
   ]
  },
  {
   "cell_type": "code",
   "execution_count": null,
   "id": "ea29b929-a2b7-4c85-b1e1-06fe919abbdc",
   "metadata": {},
   "outputs": [],
   "source": [
    "df['admission_date'] = pd.to_datetime(df['admission_date'])  # Convert admission_date to date type\n",
    "df.dtypes"
   ]
  },
  {
   "cell_type": "code",
   "execution_count": null,
   "id": "1a7e4cd5-0e95-4bc1-8f53-f8e81a92e421",
   "metadata": {},
   "outputs": [],
   "source": [
    "df['discharge_date'] = pd.to_datetime(df['discharge_date']) # Convert discharge_date to date type."
   ]
  },
  {
   "cell_type": "code",
   "execution_count": null,
   "id": "7c7ec1c2-97df-4eb1-bbda-6d5d3c70c3ad",
   "metadata": {},
   "outputs": [],
   "source": [
    "\"\"\"\n",
    "Remove symbols from hospital names.\n",
    "\"\"\"\n",
    "df['hospital_name'] = df['hospital_name'].apply(\n",
    "    lambda name: ' '.join(\n",
    "        word.capitalize() for word in str(name)\\\n",
    "        .replace(\n",
    "            '\"',' '\n",
    "        ).replace(\n",
    "            ',', ' '\n",
    "        ).strip().split()\n",
    "    )\n",
    ")"
   ]
  },
  {
   "cell_type": "code",
   "execution_count": null,
   "id": "d270bd5f-f4b2-4b25-ad57-6a5181eef75c",
   "metadata": {},
   "outputs": [],
   "source": [
    "df.drop(columns=\"room_number\", inplace=True)"
   ]
  },
  {
   "cell_type": "code",
   "execution_count": null,
   "id": "1d275a2d-bcd8-4016-8690-397c1fc01ec2",
   "metadata": {},
   "outputs": [],
   "source": [
    "\"\"\"Add lenght_of_stay column. -- in days.\"\"\"\n",
    "df['length_of_stay'] = (df['discharge_date'] - df['admission_date']).dt.days"
   ]
  },
  {
   "cell_type": "code",
   "execution_count": null,
   "id": "4367f309-ebdd-4efd-8dff-ede0bece38c6",
   "metadata": {},
   "outputs": [],
   "source": [
    "df"
   ]
  },
  {
   "cell_type": "code",
   "execution_count": null,
   "id": "1bec631f-aeec-403b-8c4b-dc813405ed85",
   "metadata": {},
   "outputs": [],
   "source": [
    "#df['patient_age'] = pd.to_numeric(df['patient_age'], errors='coerce')\n",
    "#df['medical_condition'] = pd.to_numeric(df['medical_condition'], errors='coerce')\n",
    "\n",
    "df.plot(x='patient_age', y='length_of_stay', kind='line')\n",
    "plt.title('Second_EDA')\n",
    "plt.xlabel('patient_age')\n",
    "plt.ylabel('length_of_stay')\n",
    "plt.grid(True)\n",
    "plt.show()"
   ]
  },
  {
   "cell_type": "code",
   "execution_count": null,
   "id": "b312bca5-fa18-4b4b-8f0b-4bd551ed3659",
   "metadata": {},
   "outputs": [],
   "source": [
    "features = df[[\"medical_condition\", \"patient_age\", \"admission_type\", \"billing_amount\", \"medication\", \"length_of_stay\", \"blood_type\"]]\n",
    "print(features.describe())"
   ]
  },
  {
   "cell_type": "code",
   "execution_count": null,
   "id": "578f5b33-7b94-4a5f-8e6d-4bdffe12000d",
   "metadata": {},
   "outputs": [],
   "source": [
    "numeric_features = features.select_dtypes(include=['int64', 'float64'])\n",
    "\n",
    "numeric_features.hist(figsize=(12, 8), bins=30)\n",
    "plt.suptitle('Distribution', y=1.02)\n",
    "plt.tight_layout()\n",
    "plt.show()\n"
   ]
  },
  {
   "cell_type": "code",
   "execution_count": null,
   "id": "856f6869-69a0-437a-b437-4c8437aac750",
   "metadata": {},
   "outputs": [],
   "source": [
    "plt.figure(figsize=(10, 6))\n",
    "plt.scatter(features[\"patient_age\"], features[\"length_of_stay\"], \n",
    "           alpha=0.2,  \n",
    "           s=20)      \n",
    "plt.xlabel(\"Patient Age\")\n",
    "plt.ylabel(\"Length of Stay\")\n",
    "plt.title(\"Patient Age vs Length of Stay\")\n",
    "plt.grid(True, alpha=0.3)  \n",
    "plt.show()"
   ]
  },
  {
   "cell_type": "code",
   "execution_count": null,
   "id": "baa92aa5-e01b-417d-a702-1add46cf35b7",
   "metadata": {},
   "outputs": [],
   "source": [
    "features.hist(column=\"length_of_stay\", by=\"billing_amount\", figsize=(15, 10))\n",
    "plt.show()\n"
   ]
  },
  {
   "cell_type": "code",
   "execution_count": null,
   "id": "f13a17ae-dfbe-4c75-95e6-968556edb469",
   "metadata": {},
   "outputs": [],
   "source": []
  },
  {
   "cell_type": "code",
   "execution_count": null,
   "id": "267f3ae5-fd34-444b-8e08-08b4408104be",
   "metadata": {},
   "outputs": [],
   "source": []
  },
  {
   "cell_type": "code",
   "execution_count": null,
   "id": "239ee8ca-f7e9-4b42-9b28-0470f128beb2",
   "metadata": {},
   "outputs": [],
   "source": []
  },
  {
   "cell_type": "code",
   "execution_count": null,
   "id": "0ae5d4a1-9690-4129-a064-c787e4e5cace",
   "metadata": {},
   "outputs": [],
   "source": []
  },
  {
   "cell_type": "code",
   "execution_count": null,
   "id": "e46d3f97-0380-49e2-8076-ea9472390928",
   "metadata": {},
   "outputs": [],
   "source": []
  }
 ],
 "metadata": {
  "kernelspec": {
   "display_name": "Python 3 (ipykernel)",
   "language": "python",
   "name": "python3"
  },
  "language_info": {
   "codemirror_mode": {
    "name": "ipython",
    "version": 3
   },
   "file_extension": ".py",
   "mimetype": "text/x-python",
   "name": "python",
   "nbconvert_exporter": "python",
   "pygments_lexer": "ipython3",
   "version": "3.12.4"
  },
  "panel-cell-order": [
   "55d577a2-81d8-4335-8d14-6916ed294b70"
  ]
 },
 "nbformat": 4,
 "nbformat_minor": 5
}
